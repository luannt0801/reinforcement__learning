{
 "cells": [
  {
   "cell_type": "markdown",
   "metadata": {},
   "source": [
    "# Install Enviroment"
   ]
  },
  {
   "cell_type": "code",
   "execution_count": 7,
   "metadata": {},
   "outputs": [
    {
     "name": "stderr",
     "output_type": "stream",
     "text": [
      "d:\\download\\python\\Lib\\site-packages\\gym\\utils\\passive_env_checker.py:233: DeprecationWarning: `np.bool8` is a deprecated alias for `np.bool_`.  (Deprecated NumPy 1.24)\n",
      "  if not isinstance(terminated, (bool, np.bool8)):\n"
     ]
    }
   ],
   "source": [
    "import gym\n",
    "env = gym.make(\"CartPole-v1\")\n",
    "observation, info = env.reset(seed=42)\n",
    "\n",
    "for _ in range(1000):\n",
    "    action = env.action_space.sample()\n",
    "    observation, reward, terminated, truncated, info = env.step(action)\n",
    "\n",
    "    if terminated or truncated:\n",
    "        observation, info = env.reset()\n",
    "env.close()"
   ]
  },
  {
   "cell_type": "code",
   "execution_count": 10,
   "metadata": {},
   "outputs": [
    {
     "name": "stdout",
     "output_type": "stream",
     "text": [
      "Requirement already satisfied: gym[box2d] in d:\\download\\python\\lib\\site-packages (0.26.2)\n",
      "Requirement already satisfied: numpy>=1.18.0 in d:\\download\\python\\lib\\site-packages (from gym[box2d]) (1.24.3)\n",
      "Requirement already satisfied: cloudpickle>=1.2.0 in d:\\download\\python\\lib\\site-packages (from gym[box2d]) (2.2.1)\n",
      "Requirement already satisfied: gym-notices>=0.0.4 in d:\\download\\python\\lib\\site-packages (from gym[box2d]) (0.0.8)\n",
      "Collecting box2d-py==2.3.5 (from gym[box2d])\n",
      "  Using cached box2d-py-2.3.5.tar.gz (374 kB)\n",
      "  Preparing metadata (setup.py): started\n",
      "  Preparing metadata (setup.py): finished with status 'done'\n",
      "Collecting pygame==2.1.0 (from gym[box2d])\n",
      "  Using cached pygame-2.1.0.tar.gz (5.8 MB)\n",
      "  Preparing metadata (setup.py): started\n",
      "  Preparing metadata (setup.py): finished with status 'error'\n",
      "Note: you may need to restart the kernel to use updated packages.\n"
     ]
    },
    {
     "name": "stderr",
     "output_type": "stream",
     "text": [
      "  error: subprocess-exited-with-error\n",
      "  \n",
      "  × python setup.py egg_info did not run successfully.\n",
      "  │ exit code: 1\n",
      "  ╰─> [77 lines of output]\n",
      "      \n",
      "      \n",
      "      WARNING, No \"Setup\" File Exists, Running \"buildconfig/config.py\"\n",
      "      Using WINDOWS configuration...\n",
      "      \n",
      "      Making dir :prebuilt_downloads:\n",
      "      Downloading... https://www.libsdl.org/release/SDL2-devel-2.0.16-VC.zip 13d952c333f3c2ebe9b7bc0075b4ad2f784e7584\n",
      "      Unzipping :prebuilt_downloads\\SDL2-devel-2.0.16-VC.zip:\n",
      "      Downloading... https://www.libsdl.org/projects/SDL_image/release/SDL2_image-devel-2.0.5-VC.zip 137f86474691f4e12e76e07d58d5920c8d844d5b\n",
      "      Unzipping :prebuilt_downloads\\SDL2_image-devel-2.0.5-VC.zip:\n",
      "      Downloading... https://www.libsdl.org/projects/SDL_ttf/release/SDL2_ttf-devel-2.0.15-VC.zip 1436df41ebc47ac36e02ec9bda5699e80ff9bd27\n",
      "      Unzipping :prebuilt_downloads\\SDL2_ttf-devel-2.0.15-VC.zip:\n",
      "      Downloading... https://www.libsdl.org/projects/SDL_mixer/release/SDL2_mixer-devel-2.0.4-VC.zip 9097148f4529cf19f805ccd007618dec280f0ecc\n",
      "      Unzipping :prebuilt_downloads\\SDL2_mixer-devel-2.0.4-VC.zip:\n",
      "      Downloading... https://www.pygame.org/ftp/jpegsr9d.zip ed10aa2b5a0fcfe74f8a6f7611aeb346b06a1f99\n",
      "      Unzipping :prebuilt_downloads\\jpegsr9d.zip:\n",
      "      Downloading... https://pygame.org/ftp/prebuilt-x64-pygame-1.9.2-20150922.zip 3a5af3427b3aa13a0aaf5c4cb08daaed341613ed\n",
      "      Unzipping :prebuilt_downloads\\prebuilt-x64-pygame-1.9.2-20150922.zip:\n",
      "      copying into .\\prebuilt-x64\n",
      "      Path for SDL: prebuilt-x64\\SDL2-2.0.16\n",
      "      ...Library directory for SDL: prebuilt-x64/SDL2-2.0.16/lib/x64\n",
      "      ...Include directory for SDL: prebuilt-x64/SDL2-2.0.16/include\n",
      "      Path for FONT: prebuilt-x64\\SDL2_ttf-2.0.15\n",
      "      ...Library directory for FONT: prebuilt-x64/SDL2_ttf-2.0.15/lib/x64\n",
      "      ...Include directory for FONT: prebuilt-x64/SDL2_ttf-2.0.15/include\n",
      "      Path for IMAGE: prebuilt-x64\\SDL2_image-2.0.5\n",
      "      ...Library directory for IMAGE: prebuilt-x64/SDL2_image-2.0.5/lib/x64\n",
      "      ...Include directory for IMAGE: prebuilt-x64/SDL2_image-2.0.5/include\n",
      "      Path for MIXER: prebuilt-x64\\SDL2_mixer-2.0.4\n",
      "      ...Library directory for MIXER: prebuilt-x64/SDL2_mixer-2.0.4/lib/x64\n",
      "      ...Include directory for MIXER: prebuilt-x64/SDL2_mixer-2.0.4/include\n",
      "      Path for PORTMIDI: prebuilt-x64\n",
      "      ...Library directory for PORTMIDI: prebuilt-x64/lib\n",
      "      ...Include directory for PORTMIDI: prebuilt-x64/include\n",
      "      DLL for SDL2: prebuilt-x64/SDL2-2.0.16/lib/x64/SDL2.dll\n",
      "      DLL for SDL2_ttf: prebuilt-x64/SDL2_ttf-2.0.15/lib/x64/SDL2_ttf.dll\n",
      "      DLL for SDL2_image: prebuilt-x64/SDL2_image-2.0.5/lib/x64/SDL2_image.dll\n",
      "      DLL for SDL2_mixer: prebuilt-x64/SDL2_mixer-2.0.4/lib/x64/SDL2_mixer.dll\n",
      "      DLL for portmidi: prebuilt-x64/lib/portmidi.dll\n",
      "      Path for FREETYPE not found.\n",
      "      ...Found include dir but no library dir in prebuilt-x64.\n",
      "      Path for PNG not found.\n",
      "      ...Found include dir but no library dir in prebuilt-x64.\n",
      "      Path for JPEG not found.\n",
      "      ...Found include dir but no library dir in prebuilt-x64.\n",
      "      DLL for freetype: prebuilt-x64/SDL2_ttf-2.0.15/lib/x64/libfreetype-6.dll\n",
      "      \n",
      "      ---\n",
      "      For help with compilation see:\n",
      "          https://www.pygame.org/wiki/CompileWindows\n",
      "      To contribute to pygame development see:\n",
      "          https://www.pygame.org/contribute.html\n",
      "      ---\n",
      "      \n",
      "      Traceback (most recent call last):\n",
      "        File \"<string>\", line 2, in <module>\n",
      "        File \"<pip-setuptools-caller>\", line 34, in <module>\n",
      "        File \"C:\\Users\\Luan2002\\AppData\\Local\\Temp\\pip-install-inq7nsgy\\pygame_9de1834557f34984bc2a1538bed1c272\\setup.py\", line 388, in <module>\n",
      "          buildconfig.config.main(AUTO_CONFIG)\n",
      "        File \"C:\\Users\\Luan2002\\AppData\\Local\\Temp\\pip-install-inq7nsgy\\pygame_9de1834557f34984bc2a1538bed1c272\\buildconfig\\config.py\", line 234, in main\n",
      "          deps = CFG.main(**kwds)\n",
      "                 ^^^^^^^^^^^^^^^^\n",
      "        File \"C:\\Users\\Luan2002\\AppData\\Local\\Temp\\pip-install-inq7nsgy\\pygame_9de1834557f34984bc2a1538bed1c272\\buildconfig\\config_win.py\", line 511, in main\n",
      "          return setup_prebuilt_sdl2(prebuilt_dir)\n",
      "                 ^^^^^^^^^^^^^^^^^^^^^^^^^^^^^^^^^\n",
      "        File \"C:\\Users\\Luan2002\\AppData\\Local\\Temp\\pip-install-inq7nsgy\\pygame_9de1834557f34984bc2a1538bed1c272\\buildconfig\\config_win.py\", line 471, in setup_prebuilt_sdl2\n",
      "          DEPS.configure()\n",
      "        File \"C:\\Users\\Luan2002\\AppData\\Local\\Temp\\pip-install-inq7nsgy\\pygame_9de1834557f34984bc2a1538bed1c272\\buildconfig\\config_win.py\", line 336, in configure\n",
      "          from . import vstools\n",
      "        File \"C:\\Users\\Luan2002\\AppData\\Local\\Temp\\pip-install-inq7nsgy\\pygame_9de1834557f34984bc2a1538bed1c272\\buildconfig\\vstools.py\", line 11, in <module>\n",
      "          compiler.initialize()\n",
      "        File \"d:\\download\\python\\Lib\\site-packages\\setuptools\\_distutils\\msvc9compiler.py\", line 403, in initialize\n",
      "          vc_env = query_vcvarsall(VERSION, plat_spec)\n",
      "                   ^^^^^^^^^^^^^^^^^^^^^^^^^^^^^^^^^^^\n",
      "        File \"d:\\download\\python\\Lib\\site-packages\\setuptools\\_distutils\\msvc9compiler.py\", line 281, in query_vcvarsall\n",
      "          raise DistutilsPlatformError(\"Unable to find vcvarsall.bat\")\n",
      "      distutils.errors.DistutilsPlatformError: Unable to find vcvarsall.bat\n",
      "      [end of output]\n",
      "  \n",
      "  note: This error originates from a subprocess, and is likely not a problem with pip.\n",
      "error: metadata-generation-failed\n",
      "\n",
      "× Encountered error while generating package metadata.\n",
      "╰─> See above for output.\n",
      "\n",
      "note: This is an issue with the package mentioned above, not pip.\n",
      "hint: See above for details.\n"
     ]
    }
   ],
   "source": [
    "pip install gym[box2d]"
   ]
  },
  {
   "cell_type": "code",
   "execution_count": 12,
   "metadata": {},
   "outputs": [
    {
     "data": {
      "text/plain": [
       "<TimeLimit<OrderEnforcing<PassiveEnvChecker<MountainCarEnv<MountainCar-v0>>>>>"
      ]
     },
     "execution_count": 12,
     "metadata": {},
     "output_type": "execute_result"
    }
   ],
   "source": [
    "import gymnasium as gym\n",
    "gym.make('MountainCar-v0')"
   ]
  },
  {
   "cell_type": "code",
   "execution_count": null,
   "metadata": {},
   "outputs": [],
   "source": [
    "import gym\n",
    "env = gym.make(\"LunarLander-v2\", render_mode=\"human\")\n",
    "observation, info = env.reset(seed=42)\n",
    "for _ in range(1000):\n",
    "   action = policy(observation)  # User-defined policy function\n",
    "   observation, reward, terminated, truncated, info = env.step(action)\n",
    "\n",
    "   if terminated or truncated:\n",
    "      observation, info = env.reset()\n",
    "env.close()"
   ]
  },
  {
   "cell_type": "code",
   "execution_count": 1,
   "metadata": {},
   "outputs": [],
   "source": [
    "import gym\n",
    "from gym import spaces\n",
    "import numpy as np\n",
    "\n",
    "import math\n",
    "from typing import Optional\n",
    "\n",
    "import numpy as np\n",
    "\n",
    "import gym\n",
    "from gym import spaces\n",
    "from gym.envs.classic_control import utils\n",
    "from gym.error import DependencyNotInstalled"
   ]
  },
  {
   "cell_type": "markdown",
   "metadata": {},
   "source": [
    "### Create Env"
   ]
  },
  {
   "cell_type": "code",
   "execution_count": 13,
   "metadata": {},
   "outputs": [],
   "source": [
    "class BaseStationEnv(gym.Env):\n",
    "    def __init__(self):\n",
    "        super(BaseStationEnv, self).__init__()\n",
    "\n",
    "        # Kích thước ma trận trạm base stand và tải\n",
    "        self.matrix_size = 5\n",
    "\n",
    "        # Không gian hành động: Bật/tắt trạm base stand (0: OFF, 1: ON)\n",
    "        self.action_space = spaces.MultiDiscrete([2] * self.matrix_size ** 2)\n",
    "\n",
    "        # Không gian quan sát: Ma trận tải\n",
    "        self.observation_space = spaces.Box(0, 1, shape=(self.matrix_size, self.matrix_size), dtype=np.float32)\n",
    "\n",
    "        # Trạng thái ban đầu\n",
    "        self.state = np.full((self.matrix_size, self.matrix_size), 0.1, dtype=np.float32)\n",
    "\n",
    "    def step(self, action):\n",
    "        # Thực hiện hành động: Bật/tắt trạm base stand\n",
    "        action_matrix = np.array(action).reshape((self.matrix_size, self.matrix_size))\n",
    "        self.state = self.state * action_matrix\n",
    "\n",
    "        # Tính thưởng\n",
    "        energy_consumption = self.calculate_energy_consumption(self.state)\n",
    "        traffic_loss = self.calculate_traffic_loss(self.state)\n",
    "        reward = energy_consumption - 100 * traffic_loss\n",
    "\n",
    "        # Xác định trạng thái kết thúc\n",
    "        done = False\n",
    "\n",
    "        # Trả về thông tin\n",
    "        info = {}\n",
    "\n",
    "        return self.state, reward, done, info\n",
    "\n",
    "    def reset(self):\n",
    "        # Khởi tạo trạng thái ban đầu\n",
    "        self.state = np.full((self.matrix_size, self.matrix_size), 0.1, dtype=np.float32)\n",
    "        return self.state\n",
    "\n",
    "    def render(self, mode='human'):\n",
    "        # Hiển thị trạng thái (tuỳ thuộc vào mode)\n",
    "        if mode == 'human':\n",
    "            print(self.state)\n",
    "        elif mode == 'rgb_array':\n",
    "            pass\n",
    "\n",
    "    def calculate_energy_consumption(self, state):\n",
    "        # Tính toán tiêu thụ năng lượng (theo công thức của bạn)\n",
    "        return 0  # Cần triển khai công thức thực tế\n",
    "\n",
    "    def calculate_traffic_loss(self, state):\n",
    "        # Tính toán mất mát lưu lượng (theo công thức của bạn)\n",
    "        return 0  # Cần triển khai công thức thực tế\n"
   ]
  },
  {
   "cell_type": "code",
   "execution_count": null,
   "metadata": {},
   "outputs": [],
   "source": []
  }
 ],
 "metadata": {
  "kernelspec": {
   "display_name": "Python 3",
   "language": "python",
   "name": "python3"
  },
  "language_info": {
   "codemirror_mode": {
    "name": "ipython",
    "version": 3
   },
   "file_extension": ".py",
   "mimetype": "text/x-python",
   "name": "python",
   "nbconvert_exporter": "python",
   "pygments_lexer": "ipython3",
   "version": "3.11.5"
  },
  "orig_nbformat": 4
 },
 "nbformat": 4,
 "nbformat_minor": 2
}
